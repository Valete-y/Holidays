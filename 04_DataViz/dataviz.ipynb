{
 "cells": [
  {
   "cell_type": "markdown",
   "metadata": {},
   "source": [
    "# 04. Data Visualization\n",
    "\n",
    "Aqui vai se encontrar um Dashboard completo, englobando tanto uma descrição dados coletados em um formato mais concreto quanto análises visuais respondendo a pergunta que engloba todo esse projeto\n",
    "\n",
    "## Inicialização"
   ]
  },
  {
   "cell_type": "code",
   "execution_count": 1,
   "metadata": {},
   "outputs": [],
   "source": [
    "# bibliotecas\n",
    "\n",
    "import pandas as pd\n",
    "import numpy as np\n",
    "\n",
    "import seaborn as sns\n",
    "\n",
    "# Dados\n",
    "\n",
    "df_final = pd.read_csv(\"./final.csv\")\n",
    "df_feriado = pd.read_csv(\"./feriados.csv\")"
   ]
  }
 ],
 "metadata": {
  "kernelspec": {
   "display_name": "Python 3.10.7 64-bit",
   "language": "python",
   "name": "python3"
  },
  "language_info": {
   "codemirror_mode": {
    "name": "ipython",
    "version": 3
   },
   "file_extension": ".py",
   "mimetype": "text/x-python",
   "name": "python",
   "nbconvert_exporter": "python",
   "pygments_lexer": "ipython3",
   "version": "3.10.7"
  },
  "orig_nbformat": 4,
  "vscode": {
   "interpreter": {
    "hash": "40090ca5dcbb0f5bd5474f519d213f9c2f3e44b3042b12b7db5b038295e1d00b"
   }
  }
 },
 "nbformat": 4,
 "nbformat_minor": 2
}
